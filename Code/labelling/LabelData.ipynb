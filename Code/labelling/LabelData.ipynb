{
  "nbformat": 4,
  "nbformat_minor": 0,
  "metadata": {
    "colab": {
      "provenance": []
    },
    "kernelspec": {
      "name": "python3",
      "display_name": "Python 3"
    },
    "language_info": {
      "name": "python"
    }
  },
  "cells": [
    {
      "cell_type": "code",
      "execution_count": null,
      "metadata": {
        "id": "zv1bCzkOWKA_"
      },
      "outputs": [],
      "source": [
        "import os\n",
        "import csv\n",
        "import pandas as pd\n",
        "class LabelData(object):\n",
        "\n",
        "    categories = ['goal','description','scope','requirements','assmptions and dependencies','architecture','users']\n",
        "    path = os.getcwd()+'/../Data'\n",
        "\n",
        "    def __init__(self):\n",
        "        print('Labelling Data...')"
      ]
    }
  ]
}