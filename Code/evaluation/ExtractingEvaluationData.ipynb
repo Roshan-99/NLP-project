{
  "nbformat": 4,
  "nbformat_minor": 0,
  "metadata": {
    "colab": {
      "provenance": []
    },
    "kernelspec": {
      "name": "python3",
      "display_name": "Python 3"
    },
    "language_info": {
      "name": "python"
    }
  },
  "cells": [
    {
      "cell_type": "code",
      "execution_count": null,
      "metadata": {
        "id": "Q9SpwpLg3h6L"
      },
      "outputs": [],
      "source": [
        "from traitlets.config.application import default\n",
        "from pandas.core.indexes import category\n",
        "import os\n",
        "import csv\n",
        "import pandas as pd\n",
        "from collections import defaultdict\n",
        "class ExtractingEvaluationData(object):\n",
        "\n",
        "    categories = ['purpose','description','scope','requirements','assumptions and dependencies','architecture','users']\n",
        "    path = os.getcwd()+'/../Data'\n",
        "\n",
        "    def __init__(self):\n",
        "        print('ExtractingEvaluationData Results...')\n",
        "        contentExp = self.getTestData()\n",
        "        contentPred, srs = self.getPredictedData(self.categories)\n",
        "        df = self.processData(contentPred, contentExp, srs, self.categories)\n",
        "        self.writeData(df)\n",
        "\n",
        "        \n",
        "    def getTestData(self):\n",
        "        test_data = defaultdict(dict)\n",
        "        read_path = self.path +'/evaluation_data/expected_data.csv'\n",
        "        df = pd.read_csv(read_path)\n",
        "        df = df.fillna(' ')\n",
        "        \n",
        "        for i, row in df.iterrows():\n",
        "            test_data[row[0]][row[1]] = row[2]\n",
        "        return test_data\n",
        "\n",
        "    def getPredictedData(self,categories):\n",
        "        contentPred = defaultdict(dict)\n",
        "        srs = []\n",
        "        dest = self.path+'/summarized_data/summaries'\n",
        "        \n",
        "        for category in categories:\n",
        "            read_path = dest+'/'+category+'/'\n",
        "            documents = os.listdir(read_path)\n",
        "            for doc in documents:\n",
        "                with open(read_path+doc, 'r') as input:\n",
        "                    doc_num = doc[:-4]\n",
        "\n",
        "                    contentPred[doc_num][category] = str(input.read())\n",
        "\n",
        "        for doc in documents:\n",
        "            doc = doc.split('/')[-1]\n",
        "            srs.append(doc[:-4])\n",
        "\n",
        "        return contentPred,srs\n",
        "\n",
        "    def processData(self,contentPred, contentExp, srs, categories):\n",
        "        print(contentPred,'\\nexp:',contentExp)\n",
        "        df = pd.DataFrame(columns=['doc','predicted','expected'])\n",
        "        docs = []\n",
        "        pred = []\n",
        "        expect = []\n",
        "        for s in srs:\n",
        "            for category in categories:\n",
        "                docs.append(s)\n",
        "                if len(contentPred[s])!=0:\n",
        "                    v1 = contentPred[s][category]\n",
        "                else:\n",
        "                    v1 =''\n",
        "                if len(contentExp[s])!=0:\n",
        "                    v2 = contentExp[s][category]\n",
        "                else:\n",
        "                    v2 =''\n",
        "                pred.append(v1) \n",
        "                expect.append(v2)\n",
        "        df['doc'] = docs\n",
        "        df['predicted'] = pred\n",
        "        df['expected'] = expect\n",
        "        display(df)\n",
        "        return df\n",
        "\n",
        "    def writeData(self,df):\n",
        "        write_path = self.path +'/evaluation_data/evaluation_data.csv'\n",
        "        # Create CSV - add Dataframe\n",
        "        df.to_csv(write_path, index=False, sep=',')\n",
        "\n",
        "# ExtractingEvaluationData()"
      ]
    },
    {
      "cell_type": "code",
      "source": [],
      "metadata": {
        "id": "DJ4xxqBE4Gc_"
      },
      "execution_count": null,
      "outputs": []
    }
  ]
}