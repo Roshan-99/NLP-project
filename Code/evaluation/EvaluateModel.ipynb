{
 "cells": [
  {
   "cell_type": "code",
   "execution_count": 11,
   "metadata": {
    "collapsed": true
   },
   "outputs": [
    {
     "name": "stdout",
     "output_type": "stream",
     "text": [
      "Requirement already satisfied: nltk in /Users/tejas/Desktop/Fall 2022/ANLP/NLP-project/venv/lib/python3.10/site-packages (3.7)\n",
      "Requirement already satisfied: regex>=2021.8.3 in /Users/tejas/Desktop/Fall 2022/ANLP/NLP-project/venv/lib/python3.10/site-packages (from nltk) (2022.10.31)\n",
      "Requirement already satisfied: joblib in /Users/tejas/Desktop/Fall 2022/ANLP/NLP-project/venv/lib/python3.10/site-packages (from nltk) (1.2.0)\n",
      "Requirement already satisfied: tqdm in /Users/tejas/Desktop/Fall 2022/ANLP/NLP-project/venv/lib/python3.10/site-packages (from nltk) (4.64.1)\n",
      "Requirement already satisfied: click in /Users/tejas/Desktop/Fall 2022/ANLP/NLP-project/venv/lib/python3.10/site-packages (from nltk) (8.1.3)\n",
      "Requirement already satisfied: rouge-score in /Users/tejas/Desktop/Fall 2022/ANLP/NLP-project/venv/lib/python3.10/site-packages (0.1.2)\n",
      "Requirement already satisfied: numpy in /Users/tejas/Desktop/Fall 2022/ANLP/NLP-project/venv/lib/python3.10/site-packages (from rouge-score) (1.23.5)\n",
      "Requirement already satisfied: six>=1.14.0 in /Users/tejas/Desktop/Fall 2022/ANLP/NLP-project/venv/lib/python3.10/site-packages (from rouge-score) (1.16.0)\n",
      "Requirement already satisfied: absl-py in /Users/tejas/Desktop/Fall 2022/ANLP/NLP-project/venv/lib/python3.10/site-packages (from rouge-score) (1.3.0)\n",
      "Requirement already satisfied: nltk in /Users/tejas/Desktop/Fall 2022/ANLP/NLP-project/venv/lib/python3.10/site-packages (from rouge-score) (3.7)\n",
      "Requirement already satisfied: tqdm in /Users/tejas/Desktop/Fall 2022/ANLP/NLP-project/venv/lib/python3.10/site-packages (from nltk->rouge-score) (4.64.1)\n",
      "Requirement already satisfied: click in /Users/tejas/Desktop/Fall 2022/ANLP/NLP-project/venv/lib/python3.10/site-packages (from nltk->rouge-score) (8.1.3)\n",
      "Requirement already satisfied: joblib in /Users/tejas/Desktop/Fall 2022/ANLP/NLP-project/venv/lib/python3.10/site-packages (from nltk->rouge-score) (1.2.0)\n",
      "Requirement already satisfied: regex>=2021.8.3 in /Users/tejas/Desktop/Fall 2022/ANLP/NLP-project/venv/lib/python3.10/site-packages (from nltk->rouge-score) (2022.10.31)\n",
      "Collecting pandas\n",
      "  Downloading pandas-1.5.2-cp310-cp310-macosx_11_0_arm64.whl (10.8 MB)\n",
      "\u001b[2K     \u001b[38;2;114;156;31m━━━━━━━━━━━━━━━━━━━━━━━━━━━━━━━━━━━━━━━━\u001b[0m \u001b[32m10.8/10.8 MB\u001b[0m \u001b[31m5.3 MB/s\u001b[0m eta \u001b[36m0:00:00\u001b[0mm eta \u001b[36m0:00:01\u001b[0m[36m0:00:01\u001b[0m\n",
      "\u001b[?25hCollecting pytz>=2020.1\n",
      "  Downloading pytz-2022.6-py2.py3-none-any.whl (498 kB)\n",
      "\u001b[2K     \u001b[38;2;114;156;31m━━━━━━━━━━━━━━━━━━━━━━━━━━━━━━━━━━━━━━━\u001b[0m \u001b[32m498.1/498.1 kB\u001b[0m \u001b[31m5.6 MB/s\u001b[0m eta \u001b[36m0:00:00\u001b[0m[36m0:00:01\u001b[0mm eta \u001b[36m0:00:01\u001b[0m\n",
      "\u001b[?25hRequirement already satisfied: numpy>=1.21.0 in /Users/tejas/Desktop/Fall 2022/ANLP/NLP-project/venv/lib/python3.10/site-packages (from pandas) (1.23.5)\n",
      "Requirement already satisfied: python-dateutil>=2.8.1 in /Users/tejas/Desktop/Fall 2022/ANLP/NLP-project/venv/lib/python3.10/site-packages (from pandas) (2.8.2)\n",
      "Requirement already satisfied: six>=1.5 in /Users/tejas/Desktop/Fall 2022/ANLP/NLP-project/venv/lib/python3.10/site-packages (from python-dateutil>=2.8.1->pandas) (1.16.0)\n",
      "Installing collected packages: pytz, pandas\n",
      "Successfully installed pandas-1.5.2 pytz-2022.6\n"
     ]
    }
   ],
   "source": [
    "!pip install nltk\n",
    "!pip install rouge-score\n",
    "!pip install pandas"
   ]
  },
  {
   "cell_type": "code",
   "execution_count": 4,
   "metadata": {
    "id": "Q9SpwpLg3h6L"
   },
   "outputs": [
    {
     "name": "stdout",
     "output_type": "stream",
     "text": [
      "Evaluating Results...\n",
      "[0.4090909090909091, 0.3333333333333333, 0.7455621301775148, 0.3633720930232558, 0.7121212121212122, 0.5235109717868338, 0.9572649572649573]\n"
     ]
    },
    {
     "ename": "ValueError",
     "evalue": "Length of values (0) does not match length of index (7)",
     "output_type": "error",
     "traceback": [
      "\u001b[0;31m---------------------------------------------------------------------------\u001b[0m",
      "\u001b[0;31mValueError\u001b[0m                                Traceback (most recent call last)",
      "Cell \u001b[0;32mIn [4], line 90\u001b[0m\n\u001b[1;32m     87\u001b[0m         \u001b[38;5;28mself\u001b[39m\u001b[38;5;241m.\u001b[39mdf[\u001b[38;5;124m\"\u001b[39m\u001b[38;5;124mROUGE_recall\u001b[39m\u001b[38;5;124m\"\u001b[39m] \u001b[38;5;241m=\u001b[39m []\n\u001b[1;32m     88\u001b[0m         display(\u001b[38;5;28mself\u001b[39m\u001b[38;5;241m.\u001b[39mdf)\n\u001b[0;32m---> 90\u001b[0m \u001b[43mEvaluateModel\u001b[49m\u001b[43m(\u001b[49m\u001b[43m)\u001b[49m\n",
      "Cell \u001b[0;32mIn [4], line 21\u001b[0m, in \u001b[0;36mEvaluateModel.__init__\u001b[0;34m(self)\u001b[0m\n\u001b[1;32m     19\u001b[0m \u001b[38;5;28mself\u001b[39m\u001b[38;5;241m.\u001b[39mgetRougeScore()\n\u001b[1;32m     20\u001b[0m \u001b[38;5;28mself\u001b[39m\u001b[38;5;241m.\u001b[39mgetBertScore()\n\u001b[0;32m---> 21\u001b[0m \u001b[38;5;28;43mself\u001b[39;49m\u001b[38;5;241;43m.\u001b[39;49m\u001b[43mwriteResults\u001b[49m\u001b[43m(\u001b[49m\u001b[43m)\u001b[49m\n",
      "Cell \u001b[0;32mIn [4], line 87\u001b[0m, in \u001b[0;36mEvaluateModel.writeResults\u001b[0;34m(self)\u001b[0m\n\u001b[1;32m     85\u001b[0m \u001b[38;5;28mprint\u001b[39m(\u001b[38;5;28mlist\u001b[39m(\u001b[38;5;28mself\u001b[39m\u001b[38;5;241m.\u001b[39mdf[\u001b[38;5;124m\"\u001b[39m\u001b[38;5;124mROUGE_recall\u001b[39m\u001b[38;5;124m\"\u001b[39m]))\n\u001b[1;32m     86\u001b[0m \u001b[38;5;28mself\u001b[39m\u001b[38;5;241m.\u001b[39mdf\u001b[38;5;241m.\u001b[39minsert(\u001b[38;5;241m0\u001b[39m, \u001b[38;5;124m\"\u001b[39m\u001b[38;5;124mCategories\u001b[39m\u001b[38;5;124m\"\u001b[39m, [\u001b[38;5;124m'\u001b[39m\u001b[38;5;124mpurpose\u001b[39m\u001b[38;5;124m'\u001b[39m,\u001b[38;5;124m'\u001b[39m\u001b[38;5;124mdescription\u001b[39m\u001b[38;5;124m'\u001b[39m,\u001b[38;5;124m'\u001b[39m\u001b[38;5;124mscope\u001b[39m\u001b[38;5;124m'\u001b[39m,\u001b[38;5;124m'\u001b[39m\u001b[38;5;124mrequirements\u001b[39m\u001b[38;5;124m'\u001b[39m,\u001b[38;5;124m'\u001b[39m\u001b[38;5;124massumptions and dependencies\u001b[39m\u001b[38;5;124m'\u001b[39m,\u001b[38;5;124m'\u001b[39m\u001b[38;5;124marchitecture\u001b[39m\u001b[38;5;124m'\u001b[39m,\u001b[38;5;124m'\u001b[39m\u001b[38;5;124musers\u001b[39m\u001b[38;5;124m'\u001b[39m])\n\u001b[0;32m---> 87\u001b[0m \u001b[38;5;28;43mself\u001b[39;49m\u001b[38;5;241;43m.\u001b[39;49m\u001b[43mdf\u001b[49m\u001b[43m[\u001b[49m\u001b[38;5;124;43m\"\u001b[39;49m\u001b[38;5;124;43mROUGE_recall\u001b[39;49m\u001b[38;5;124;43m\"\u001b[39;49m\u001b[43m]\u001b[49m \u001b[38;5;241m=\u001b[39m []\n\u001b[1;32m     88\u001b[0m display(\u001b[38;5;28mself\u001b[39m\u001b[38;5;241m.\u001b[39mdf)\n",
      "File \u001b[0;32m~/Desktop/Fall 2022/ANLP/NLP-project/venv/lib/python3.10/site-packages/pandas/core/frame.py:3978\u001b[0m, in \u001b[0;36mDataFrame.__setitem__\u001b[0;34m(self, key, value)\u001b[0m\n\u001b[1;32m   3975\u001b[0m     \u001b[38;5;28mself\u001b[39m\u001b[38;5;241m.\u001b[39m_setitem_array([key], value)\n\u001b[1;32m   3976\u001b[0m \u001b[38;5;28;01melse\u001b[39;00m:\n\u001b[1;32m   3977\u001b[0m     \u001b[38;5;66;03m# set column\u001b[39;00m\n\u001b[0;32m-> 3978\u001b[0m     \u001b[38;5;28;43mself\u001b[39;49m\u001b[38;5;241;43m.\u001b[39;49m\u001b[43m_set_item\u001b[49m\u001b[43m(\u001b[49m\u001b[43mkey\u001b[49m\u001b[43m,\u001b[49m\u001b[43m \u001b[49m\u001b[43mvalue\u001b[49m\u001b[43m)\u001b[49m\n",
      "File \u001b[0;32m~/Desktop/Fall 2022/ANLP/NLP-project/venv/lib/python3.10/site-packages/pandas/core/frame.py:4172\u001b[0m, in \u001b[0;36mDataFrame._set_item\u001b[0;34m(self, key, value)\u001b[0m\n\u001b[1;32m   4162\u001b[0m \u001b[38;5;28;01mdef\u001b[39;00m \u001b[38;5;21m_set_item\u001b[39m(\u001b[38;5;28mself\u001b[39m, key, value) \u001b[38;5;241m-\u001b[39m\u001b[38;5;241m>\u001b[39m \u001b[38;5;28;01mNone\u001b[39;00m:\n\u001b[1;32m   4163\u001b[0m     \u001b[38;5;124;03m\"\"\"\u001b[39;00m\n\u001b[1;32m   4164\u001b[0m \u001b[38;5;124;03m    Add series to DataFrame in specified column.\u001b[39;00m\n\u001b[1;32m   4165\u001b[0m \n\u001b[0;32m   (...)\u001b[0m\n\u001b[1;32m   4170\u001b[0m \u001b[38;5;124;03m    ensure homogeneity.\u001b[39;00m\n\u001b[1;32m   4171\u001b[0m \u001b[38;5;124;03m    \"\"\"\u001b[39;00m\n\u001b[0;32m-> 4172\u001b[0m     value \u001b[38;5;241m=\u001b[39m \u001b[38;5;28;43mself\u001b[39;49m\u001b[38;5;241;43m.\u001b[39;49m\u001b[43m_sanitize_column\u001b[49m\u001b[43m(\u001b[49m\u001b[43mvalue\u001b[49m\u001b[43m)\u001b[49m\n\u001b[1;32m   4174\u001b[0m     \u001b[38;5;28;01mif\u001b[39;00m (\n\u001b[1;32m   4175\u001b[0m         key \u001b[38;5;129;01min\u001b[39;00m \u001b[38;5;28mself\u001b[39m\u001b[38;5;241m.\u001b[39mcolumns\n\u001b[1;32m   4176\u001b[0m         \u001b[38;5;129;01mand\u001b[39;00m value\u001b[38;5;241m.\u001b[39mndim \u001b[38;5;241m==\u001b[39m \u001b[38;5;241m1\u001b[39m\n\u001b[1;32m   4177\u001b[0m         \u001b[38;5;129;01mand\u001b[39;00m \u001b[38;5;129;01mnot\u001b[39;00m is_extension_array_dtype(value)\n\u001b[1;32m   4178\u001b[0m     ):\n\u001b[1;32m   4179\u001b[0m         \u001b[38;5;66;03m# broadcast across multiple columns if necessary\u001b[39;00m\n\u001b[1;32m   4180\u001b[0m         \u001b[38;5;28;01mif\u001b[39;00m \u001b[38;5;129;01mnot\u001b[39;00m \u001b[38;5;28mself\u001b[39m\u001b[38;5;241m.\u001b[39mcolumns\u001b[38;5;241m.\u001b[39mis_unique \u001b[38;5;129;01mor\u001b[39;00m \u001b[38;5;28misinstance\u001b[39m(\u001b[38;5;28mself\u001b[39m\u001b[38;5;241m.\u001b[39mcolumns, MultiIndex):\n",
      "File \u001b[0;32m~/Desktop/Fall 2022/ANLP/NLP-project/venv/lib/python3.10/site-packages/pandas/core/frame.py:4912\u001b[0m, in \u001b[0;36mDataFrame._sanitize_column\u001b[0;34m(self, value)\u001b[0m\n\u001b[1;32m   4909\u001b[0m     \u001b[38;5;28;01mreturn\u001b[39;00m _reindex_for_setitem(Series(value), \u001b[38;5;28mself\u001b[39m\u001b[38;5;241m.\u001b[39mindex)\n\u001b[1;32m   4911\u001b[0m \u001b[38;5;28;01mif\u001b[39;00m is_list_like(value):\n\u001b[0;32m-> 4912\u001b[0m     \u001b[43mcom\u001b[49m\u001b[38;5;241;43m.\u001b[39;49m\u001b[43mrequire_length_match\u001b[49m\u001b[43m(\u001b[49m\u001b[43mvalue\u001b[49m\u001b[43m,\u001b[49m\u001b[43m \u001b[49m\u001b[38;5;28;43mself\u001b[39;49m\u001b[38;5;241;43m.\u001b[39;49m\u001b[43mindex\u001b[49m\u001b[43m)\u001b[49m\n\u001b[1;32m   4913\u001b[0m \u001b[38;5;28;01mreturn\u001b[39;00m sanitize_array(value, \u001b[38;5;28mself\u001b[39m\u001b[38;5;241m.\u001b[39mindex, copy\u001b[38;5;241m=\u001b[39m\u001b[38;5;28;01mTrue\u001b[39;00m, allow_2d\u001b[38;5;241m=\u001b[39m\u001b[38;5;28;01mTrue\u001b[39;00m)\n",
      "File \u001b[0;32m~/Desktop/Fall 2022/ANLP/NLP-project/venv/lib/python3.10/site-packages/pandas/core/common.py:561\u001b[0m, in \u001b[0;36mrequire_length_match\u001b[0;34m(data, index)\u001b[0m\n\u001b[1;32m    557\u001b[0m \u001b[38;5;124;03m\"\"\"\u001b[39;00m\n\u001b[1;32m    558\u001b[0m \u001b[38;5;124;03mCheck the length of data matches the length of the index.\u001b[39;00m\n\u001b[1;32m    559\u001b[0m \u001b[38;5;124;03m\"\"\"\u001b[39;00m\n\u001b[1;32m    560\u001b[0m \u001b[38;5;28;01mif\u001b[39;00m \u001b[38;5;28mlen\u001b[39m(data) \u001b[38;5;241m!=\u001b[39m \u001b[38;5;28mlen\u001b[39m(index):\n\u001b[0;32m--> 561\u001b[0m     \u001b[38;5;28;01mraise\u001b[39;00m \u001b[38;5;167;01mValueError\u001b[39;00m(\n\u001b[1;32m    562\u001b[0m         \u001b[38;5;124m\"\u001b[39m\u001b[38;5;124mLength of values \u001b[39m\u001b[38;5;124m\"\u001b[39m\n\u001b[1;32m    563\u001b[0m         \u001b[38;5;124mf\u001b[39m\u001b[38;5;124m\"\u001b[39m\u001b[38;5;124m(\u001b[39m\u001b[38;5;132;01m{\u001b[39;00m\u001b[38;5;28mlen\u001b[39m(data)\u001b[38;5;132;01m}\u001b[39;00m\u001b[38;5;124m) \u001b[39m\u001b[38;5;124m\"\u001b[39m\n\u001b[1;32m    564\u001b[0m         \u001b[38;5;124m\"\u001b[39m\u001b[38;5;124mdoes not match length of index \u001b[39m\u001b[38;5;124m\"\u001b[39m\n\u001b[1;32m    565\u001b[0m         \u001b[38;5;124mf\u001b[39m\u001b[38;5;124m\"\u001b[39m\u001b[38;5;124m(\u001b[39m\u001b[38;5;132;01m{\u001b[39;00m\u001b[38;5;28mlen\u001b[39m(index)\u001b[38;5;132;01m}\u001b[39;00m\u001b[38;5;124m)\u001b[39m\u001b[38;5;124m\"\u001b[39m\n\u001b[1;32m    566\u001b[0m     )\n",
      "\u001b[0;31mValueError\u001b[0m: Length of values (0) does not match length of index (7)"
     ]
    }
   ],
   "source": [
    "import os\n",
    "import csv\n",
    "import pandas as pd\n",
    "from nltk.translate.bleu_score import sentence_bleu\n",
    "from rouge_score import rouge_scorer\n",
    "from evaluate import load\n",
    "bertscore = load(\"bertscore\")\n",
    "class EvaluateModel(object):\n",
    "    \n",
    "    def __init__(self):\n",
    "        print('Evaluating Results...')\n",
    "        self.path = \".\"#os.getcwd()+'/../../Data'\n",
    "        self.categories = ['purpose']#['purpose','description','scope','requirements','assumptions and dependencies', 'architecture','users']\n",
    "        self.evalData = self.path + \"/evaluation_data.csv\"\n",
    "        self.df = None\n",
    "        self.readEvaluation()\n",
    "        #self.getBleuScore()\n",
    "        self.scorer = rouge_scorer.RougeScorer(['rouge1'], use_stemmer=True)\n",
    "        self.getRougeScore()\n",
    "        self.getBertScore()\n",
    "        self.writeResults()\n",
    "        \n",
    "    \n",
    "    def tokenize(self, column):\n",
    "        column = column.apply(lambda x: x.split())\n",
    "        return column\n",
    "    \n",
    "    def readEvaluation(self):\n",
    "        \n",
    "        self.df = pd.read_csv(self.evalData, encoding = \"latin-1\")\n",
    "        self.df.fillna(\"\", inplace = True)\n",
    "    \n",
    "    def getBleuScore(self):\n",
    "        df = self.df.copy()\n",
    "        df.predicted = self.tokenize(df.predicted)\n",
    "        df.expected = self.tokenize(df.expected)\n",
    "        scores = []\n",
    "        \n",
    "    \n",
    "        for index, row in df.iterrows():\n",
    "            \n",
    "            bleu_score = sentence_bleu([row.expected], row.predicted)\n",
    "            scores.append(bleu_score)\n",
    "        \n",
    "        self.df[\"bleu_score\"] = scores\n",
    "    \n",
    "    def getRougeScore(self):\n",
    "        df = self.df.copy()\n",
    "        rPrec = []\n",
    "        rRec = []\n",
    "        rF = []\n",
    "        \n",
    "        for index, row in df.iterrows():\n",
    "            rouge_score = self.scorer.score(row.expected, row.predicted)\n",
    "            rPrec.append(rouge_score['rouge1'].precision)\n",
    "            rRec.append(rouge_score['rouge1'].recall)\n",
    "            rF.append(rouge_score['rouge1'].fmeasure)\n",
    "        \n",
    "        self.df[\"ROUGE_precision\"] = rPrec\n",
    "        self.df[\"ROUGE_recall\"] = rRec\n",
    "        self.df[\"ROUGE_fmeasure\"] = rF\n",
    "    \n",
    "    def getBertScore(self):\n",
    "        df = self.df.copy()\n",
    "        rPrec = []\n",
    "        rRec = []\n",
    "        rF = []\n",
    "        \n",
    "        for index, row in df.iterrows():\n",
    "            score = bertscore.compute(predictions=[row.predicted], references=[row.expected], lang=\"en\")\n",
    "            rPrec.append(score['precision'][0])\n",
    "            rRec.append(score['recall'][0])\n",
    "            rF.append(score['f1'][0])\n",
    "        self.df[\"BERTScore_precision\"] = rPrec\n",
    "        self.df[\"BERTScore_recall\"] = rRec\n",
    "        self.df[\"BERTScore_f1\"] = rF\n",
    "        \n",
    "\n",
    "    \n",
    "    def writeResults(self):\n",
    "        self.df.to_csv(self.path + \"/evaluated_data3.csv\")\n",
    "        del self.df[\"predicted\"]\n",
    "        del self.df[\"expected\"]\n",
    "        del self.df[\"doc\"]\n",
    "        print(list(self.df[\"ROUGE_recall\"]))\n",
    "        self.df.insert(0, \"Categories\", ['purpose','description','scope','requirements','assumptions and dependencies','architecture','users'])\n",
    "        self.df[\"ROUGE_recall\"] = []\n",
    "        display(self.df)\n",
    "    \n",
    "EvaluateModel()"
   ]
  },
  {
   "cell_type": "code",
   "execution_count": 37,
   "metadata": {},
   "outputs": [
    {
     "data": {
      "application/vnd.jupyter.widget-view+json": {
       "model_id": "b4d87ecca5a34a7fa84ee0131f6876fe",
       "version_major": 2,
       "version_minor": 0
      },
      "text/plain": [
       "Downloading:   0%|          | 0.00/482 [00:00<?, ?B/s]"
      ]
     },
     "metadata": {},
     "output_type": "display_data"
    },
    {
     "data": {
      "application/vnd.jupyter.widget-view+json": {
       "model_id": "3912bcaa38b6436ab78502b1b44d9b0c",
       "version_major": 2,
       "version_minor": 0
      },
      "text/plain": [
       "Downloading:   0%|          | 0.00/899k [00:00<?, ?B/s]"
      ]
     },
     "metadata": {},
     "output_type": "display_data"
    },
    {
     "data": {
      "application/vnd.jupyter.widget-view+json": {
       "model_id": "2d300b8369784d8587406c74777a1d26",
       "version_major": 2,
       "version_minor": 0
      },
      "text/plain": [
       "Downloading:   0%|          | 0.00/456k [00:00<?, ?B/s]"
      ]
     },
     "metadata": {},
     "output_type": "display_data"
    },
    {
     "data": {
      "application/vnd.jupyter.widget-view+json": {
       "model_id": "369d04781e8f403bb5885890689d5947",
       "version_major": 2,
       "version_minor": 0
      },
      "text/plain": [
       "Downloading:   0%|          | 0.00/1.43G [00:00<?, ?B/s]"
      ]
     },
     "metadata": {},
     "output_type": "display_data"
    }
   ],
   "source": [
    "from evaluate import load\n",
    "bertscore = load(\"bertscore\")\n",
    "results = bertscore.compute(predictions=[\"This section will cover general information about the project perspective,  functions, and various requirements and constraints. More detailed descriptions of the project requirements and functions will be covered in latter sections. 2.1 Product Perspective  This project is designed to be used by employees of several automotive plants to Prototype V1 will have little functionality, and its main purpose will be to display  the user interface as well as to show our interpretation of the requirements. 5.2 Sample Scenarios  An employee, Bob, was given the unique four-digit-code 7924 by their The system is a desktop application that requires a computer running Windows  Vista SP2 or higher version of Windows operating system. The computer must have Visual C++ Redistributable 2010, as well as .NET Framework 4.0 installed.  Prototype V1 will have little functionality, and its main purpose will be to display Vista SP2 or higher version of Windows operating system. The computer must have Visual C++ Redistributable 2010, as well as .NET Framework 4.0 installed.  Prototype V1 will have little functionality, and its main purpose will be to display  the user interface as well as to show our interpretation of the requirements. 5.2 Sample Scenarios Specification document will further explain the specifics of the software system being produced. Section 2 focuses on the context for needing the proposed system, how it should function, and the related constraints. Section 3 provides a detailed listing of the requirements specific to the system following a hierarchical numbering scheme. Section 4 addresses the modeling requirements which includes use cases diagrams, a state diagram, and a high-level class diagram. Section 5 discusses the proposed prototype and the details of the system with instructions on how to run it as well as sample scenarios. Section 6 contains a list of references used throughout the document. Finally, Section 7 provides contact information used for further inquiries. 2 Overall Description  This section will cover general information about the project perspective,  functions, and various requirements and constraints. More detailed descriptions of the project requirements and functions will be covered in latter sections. 2.1 Product Perspective \"], references=[\"Project Automate Paint Defect Analysis Solution to the client’s need to automate the recording of paint defects on vehicles during production.\"], lang=\"en\")"
   ]
  },
  {
   "cell_type": "code",
   "execution_count": 38,
   "metadata": {},
   "outputs": [
    {
     "data": {
      "text/plain": [
       "{'precision': [0.75494384765625],\n",
       " 'recall': [0.8310678005218506],\n",
       " 'f1': [0.7911789417266846],\n",
       " 'hashcode': 'roberta-large_L17_no-idf_version=0.3.12(hug_trans=4.24.0)'}"
      ]
     },
     "execution_count": 38,
     "metadata": {},
     "output_type": "execute_result"
    }
   ],
   "source": [
    "results"
   ]
  },
  {
   "cell_type": "code",
   "execution_count": null,
   "metadata": {},
   "outputs": [],
   "source": []
  }
 ],
 "metadata": {
  "colab": {
   "authorship_tag": "ABX9TyNRTLvdBvf4l9Zt2z2sVQP/",
   "provenance": []
  },
  "kernelspec": {
   "display_name": "Python 3 (ipykernel)",
   "language": "python",
   "name": "python3"
  },
  "language_info": {
   "codemirror_mode": {
    "name": "ipython",
    "version": 3
   },
   "file_extension": ".py",
   "mimetype": "text/x-python",
   "name": "python",
   "nbconvert_exporter": "python",
   "pygments_lexer": "ipython3",
   "version": "3.10.2"
  },
  "vscode": {
   "interpreter": {
    "hash": "aee8b7b246df8f9039afb4144a1f6fd8d2ca17a180786b69acc140d282b71a49"
   }
  }
 },
 "nbformat": 4,
 "nbformat_minor": 1
}
