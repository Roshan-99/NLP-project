{
  "cells": [
    {
      "cell_type": "markdown",
      "metadata": {
        "id": "dBGNan1vpo7b"
      },
      "source": [
        "## Automated Presentation Generation from Design Documents"
      ]
    },
    {
      "cell_type": "code",
      "execution_count": null,
      "metadata": {
        "id": "7VXFSmhQpkUS"
      },
      "outputs": [],
      "source": [
        "from google.colab import drive\n",
        "drive.mount('/content/drive')"
      ]
    },
    {
      "cell_type": "markdown",
      "metadata": {
        "id": "rbFN7dL8ZGBV"
      },
      "source": [
        "Change directories to get into the repo"
      ]
    },
    {
      "cell_type": "code",
      "execution_count": null,
      "metadata": {
        "id": "flzoDg4AlzML"
      },
      "outputs": [],
      "source": [
        "cd /content/drive/My Drive/Colab Notebooks/Code/"
      ]
    },
    {
      "cell_type": "markdown",
      "metadata": {
        "id": "w54dQo9NZZSa"
      },
      "source": [
        "Install all required packages"
      ]
    },
    {
      "cell_type": "code",
      "execution_count": null,
      "metadata": {
        "id": "cFkzYkXE6PJ1"
      },
      "outputs": [],
      "source": [
        "!pip install -r requirements.txt"
      ]
    },
    {
      "cell_type": "markdown",
      "metadata": {
        "id": "KmZzDfFDZj1Z"
      },
      "source": [
        "NLTK Installation"
      ]
    },
    {
      "cell_type": "code",
      "execution_count": null,
      "metadata": {
        "id": "f0u-TRmImnL8"
      },
      "outputs": [],
      "source": [
        "import nltk\n",
        "nltk.download('punkt')\n",
        "nltk.download('stopwords')"
      ]
    },
    {
      "cell_type": "code",
      "execution_count": null,
      "metadata": {
        "id": "d-fxGrB7uRer"
      },
      "outputs": [],
      "source": [
        "!pip install import-ipynb\n",
        "import import_ipynb"
      ]
    },
    {
      "cell_type": "code",
      "execution_count": null,
      "metadata": {
        "id": "Uf8gCp3KEduU"
      },
      "outputs": [],
      "source": [
        "from labelling.LabelData import LabelData\n",
        "LabelData()"
      ]
    },
    {
      "cell_type": "code",
      "execution_count": null,
      "metadata": {
        "id": "a7uba0RbhhNx"
      },
      "outputs": [],
      "source": [
        "from summarizer.ExtractLabelledData import ExtractLabelledData\n",
        "ExtractLabelledData()"
      ]
    },
    {
      "cell_type": "code",
      "execution_count": null,
      "metadata": {
        "colab": {
          "background_save": true
        },
        "id": "Cjp7S4XPgNzK"
      },
      "outputs": [],
      "source": [
        "from summarizer.ModelSelector import ModelSelector\n",
        "ModelSelector()"
      ]
    },
    {
      "cell_type": "code",
      "execution_count": null,
      "metadata": {
        "id": "6kLVbBzsgRBS"
      },
      "outputs": [],
      "source": [
        "from evaluation.ExtractingEvaluationData import ExtractingEvaluationData\n",
        "ExtractingEvaluationData()\n"
      ]
    },
    {
      "cell_type": "code",
      "execution_count": null,
      "metadata": {
        "id": "ee5DrsMbPpTs"
      },
      "outputs": [],
      "source": [
        "from evaluation.EvaluateModel import EvaluateModel\n",
        "EvaluateModel()"
      ]
    },
    {
      "cell_type": "code",
      "execution_count": null,
      "metadata": {
        "id": "w9TWsP8l3JlJ"
      },
      "outputs": [],
      "source": [
        "from transfer_learning.TransferLearning import TransferLearning\n",
        "TransferLearning()"
      ]
    }
  ],
  "metadata": {
    "colab": {
      "provenance": []
    },
    "kernelspec": {
      "display_name": "Python 3",
      "name": "python3"
    }
  },
  "nbformat": 4,
  "nbformat_minor": 0
}